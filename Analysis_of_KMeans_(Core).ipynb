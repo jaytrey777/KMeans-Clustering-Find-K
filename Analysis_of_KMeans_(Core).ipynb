{
 "cells": [
  {
   "cell_type": "markdown",
   "metadata": {
    "colab_type": "text",
    "id": "view-in-github"
   },
   "source": [
    "<a href=\"https://colab.research.google.com/github/jaytrey777/KMeans-Clustering-Find-K/blob/main/Analysis_of_KMeans_(Core).ipynb\" target=\"_parent\"><img src=\"https://colab.research.google.com/assets/colab-badge.svg\" alt=\"Open In Colab\"/></a>"
   ]
  },
  {
   "cell_type": "markdown",
   "metadata": {
    "id": "l8zQc8w-5CP-"
   },
   "source": [
    "# Task"
   ]
  },
  {
   "cell_type": "markdown",
   "metadata": {
    "id": "fF8Uozkj3jSd"
   },
   "source": [
    "For this project, I will analyze the clusters I made in the KMeans: Find K Exercise.\n",
    "\n",
    "Data source:\n",
    "[Customer Segmentation with KMeans](https://github.com/Nikhil-Adithyan/Customer-Segmentation-with-K-Means)"
   ]
  },
  {
   "cell_type": "markdown",
   "metadata": {
    "id": "Yes1ENbr61eQ"
   },
   "source": [
    "Background:\n",
    "\n",
    "The stakeholder is a credit card company that wants to market new credit cards. They have asked to segment their potential customers to determine how and what kind of cards they should market to each group."
   ]
  },
  {
   "cell_type": "markdown",
   "metadata": {
    "id": "NZCvGc0E6vdD"
   },
   "source": [
    "Steps:\n",
    "\n",
    "- Create analytical visualizations that explore statistics for each feature for each cluster.\n",
    "- Write a description of each cluster, based on the visualizations created.\n",
    "- Create one or two recommendations for the stakeholders regarding how they should market credit cards differently, or which cards they should market, to each cluster based on the data and insights."
   ]
  },
  {
   "cell_type": "markdown",
   "metadata": {
    "id": "WJdfVGrC5Fb2"
   },
   "source": [
    "# Imports"
   ]
  },
  {
   "cell_type": "code",
   "execution_count": 1,
   "metadata": {
    "id": "1G4KWzgd38T1"
   },
   "outputs": [],
   "source": [
    "import numpy as np\n",
    "import pandas as pd\n",
    "import matplotlib.pyplot as plt\n",
    "from sklearn.preprocessing import StandardScaler\n",
    "from sklearn.cluster import KMeans\n",
    "from sklearn.metrics import silhouette_score\n",
    "\n",
    "import warnings\n",
    "warnings.filterwarnings('ignore')"
   ]
  },
  {
   "cell_type": "markdown",
   "metadata": {
    "id": "hURxHOoo5gRX"
   },
   "source": [
    "# Data Loading"
   ]
  },
  {
   "cell_type": "code",
   "execution_count": 2,
   "metadata": {
    "id": "rsyanGdg5mFK"
   },
   "outputs": [],
   "source": [
    "filename = 'https://raw.githubusercontent.com/jaytrey777/KMeans-Clustering-Find-K/main/cust_seg.csv'\n",
    "df = pd.read_csv(filename)"
   ]
  },
  {
   "cell_type": "code",
   "execution_count": 3,
   "metadata": {
    "colab": {
     "base_uri": "https://localhost:8080/"
    },
    "id": "GgsD572v-Phy",
    "outputId": "c8f1904b-f351-4588-f8b5-2ec3ff5d28d6"
   },
   "outputs": [
    {
     "name": "stdout",
     "output_type": "stream",
     "text": [
      "<class 'pandas.core.frame.DataFrame'>\n",
      "RangeIndex: 850 entries, 0 to 849\n",
      "Data columns (total 10 columns):\n",
      " #   Column           Non-Null Count  Dtype  \n",
      "---  ------           --------------  -----  \n",
      " 0   Unnamed: 0       850 non-null    int64  \n",
      " 1   Customer Id      850 non-null    int64  \n",
      " 2   Age              850 non-null    int64  \n",
      " 3   Edu              850 non-null    int64  \n",
      " 4   Years Employed   850 non-null    int64  \n",
      " 5   Income           850 non-null    int64  \n",
      " 6   Card Debt        850 non-null    float64\n",
      " 7   Other Debt       850 non-null    float64\n",
      " 8   Defaulted        700 non-null    float64\n",
      " 9   DebtIncomeRatio  850 non-null    float64\n",
      "dtypes: float64(4), int64(6)\n",
      "memory usage: 66.5 KB\n"
     ]
    }
   ],
   "source": [
    "df.info()"
   ]
  },
  {
   "cell_type": "code",
   "execution_count": 4,
   "metadata": {
    "colab": {
     "base_uri": "https://localhost:8080/",
     "height": 0
    },
    "id": "ms46hbCF59Sy",
    "outputId": "9e7dcdc5-89d4-4f05-c3c9-5e1a7aa8d16e"
   },
   "outputs": [
    {
     "data": {
      "text/html": [
       "<div>\n",
       "<style scoped>\n",
       "    .dataframe tbody tr th:only-of-type {\n",
       "        vertical-align: middle;\n",
       "    }\n",
       "\n",
       "    .dataframe tbody tr th {\n",
       "        vertical-align: top;\n",
       "    }\n",
       "\n",
       "    .dataframe thead th {\n",
       "        text-align: right;\n",
       "    }\n",
       "</style>\n",
       "<table border=\"1\" class=\"dataframe\">\n",
       "  <thead>\n",
       "    <tr style=\"text-align: right;\">\n",
       "      <th></th>\n",
       "      <th>Unnamed: 0</th>\n",
       "      <th>Customer Id</th>\n",
       "      <th>Age</th>\n",
       "      <th>Edu</th>\n",
       "      <th>Years Employed</th>\n",
       "      <th>Income</th>\n",
       "      <th>Card Debt</th>\n",
       "      <th>Other Debt</th>\n",
       "      <th>Defaulted</th>\n",
       "      <th>DebtIncomeRatio</th>\n",
       "    </tr>\n",
       "  </thead>\n",
       "  <tbody>\n",
       "    <tr>\n",
       "      <th>0</th>\n",
       "      <td>0</td>\n",
       "      <td>1</td>\n",
       "      <td>41</td>\n",
       "      <td>2</td>\n",
       "      <td>6</td>\n",
       "      <td>19</td>\n",
       "      <td>0.124</td>\n",
       "      <td>1.073</td>\n",
       "      <td>0.0</td>\n",
       "      <td>6.3</td>\n",
       "    </tr>\n",
       "    <tr>\n",
       "      <th>1</th>\n",
       "      <td>1</td>\n",
       "      <td>2</td>\n",
       "      <td>47</td>\n",
       "      <td>1</td>\n",
       "      <td>26</td>\n",
       "      <td>100</td>\n",
       "      <td>4.582</td>\n",
       "      <td>8.218</td>\n",
       "      <td>0.0</td>\n",
       "      <td>12.8</td>\n",
       "    </tr>\n",
       "    <tr>\n",
       "      <th>2</th>\n",
       "      <td>2</td>\n",
       "      <td>3</td>\n",
       "      <td>33</td>\n",
       "      <td>2</td>\n",
       "      <td>10</td>\n",
       "      <td>57</td>\n",
       "      <td>6.111</td>\n",
       "      <td>5.802</td>\n",
       "      <td>1.0</td>\n",
       "      <td>20.9</td>\n",
       "    </tr>\n",
       "    <tr>\n",
       "      <th>3</th>\n",
       "      <td>3</td>\n",
       "      <td>4</td>\n",
       "      <td>29</td>\n",
       "      <td>2</td>\n",
       "      <td>4</td>\n",
       "      <td>19</td>\n",
       "      <td>0.681</td>\n",
       "      <td>0.516</td>\n",
       "      <td>0.0</td>\n",
       "      <td>6.3</td>\n",
       "    </tr>\n",
       "    <tr>\n",
       "      <th>4</th>\n",
       "      <td>4</td>\n",
       "      <td>5</td>\n",
       "      <td>47</td>\n",
       "      <td>1</td>\n",
       "      <td>31</td>\n",
       "      <td>253</td>\n",
       "      <td>9.308</td>\n",
       "      <td>8.908</td>\n",
       "      <td>0.0</td>\n",
       "      <td>7.2</td>\n",
       "    </tr>\n",
       "  </tbody>\n",
       "</table>\n",
       "</div>"
      ],
      "text/plain": [
       "   Unnamed: 0  Customer Id  Age  Edu  Years Employed  Income  Card Debt  \\\n",
       "0           0            1   41    2               6      19      0.124   \n",
       "1           1            2   47    1              26     100      4.582   \n",
       "2           2            3   33    2              10      57      6.111   \n",
       "3           3            4   29    2               4      19      0.681   \n",
       "4           4            5   47    1              31     253      9.308   \n",
       "\n",
       "   Other Debt  Defaulted  DebtIncomeRatio  \n",
       "0       1.073        0.0              6.3  \n",
       "1       8.218        0.0             12.8  \n",
       "2       5.802        1.0             20.9  \n",
       "3       0.516        0.0              6.3  \n",
       "4       8.908        0.0              7.2  "
      ]
     },
     "execution_count": 4,
     "metadata": {},
     "output_type": "execute_result"
    }
   ],
   "source": [
    "df.head()"
   ]
  },
  {
   "cell_type": "code",
   "execution_count": 5,
   "metadata": {
    "colab": {
     "base_uri": "https://localhost:8080/",
     "height": 0
    },
    "id": "bGsprGW7-Kw6",
    "outputId": "ed1fa4fd-3f9c-4ee4-b5f7-08f4f5bca784"
   },
   "outputs": [
    {
     "data": {
      "text/html": [
       "<div>\n",
       "<style scoped>\n",
       "    .dataframe tbody tr th:only-of-type {\n",
       "        vertical-align: middle;\n",
       "    }\n",
       "\n",
       "    .dataframe tbody tr th {\n",
       "        vertical-align: top;\n",
       "    }\n",
       "\n",
       "    .dataframe thead th {\n",
       "        text-align: right;\n",
       "    }\n",
       "</style>\n",
       "<table border=\"1\" class=\"dataframe\">\n",
       "  <thead>\n",
       "    <tr style=\"text-align: right;\">\n",
       "      <th></th>\n",
       "      <th>Unnamed: 0</th>\n",
       "      <th>Customer Id</th>\n",
       "      <th>Age</th>\n",
       "      <th>Edu</th>\n",
       "      <th>Years Employed</th>\n",
       "      <th>Income</th>\n",
       "      <th>Card Debt</th>\n",
       "      <th>Other Debt</th>\n",
       "      <th>Defaulted</th>\n",
       "      <th>DebtIncomeRatio</th>\n",
       "    </tr>\n",
       "  </thead>\n",
       "  <tbody>\n",
       "    <tr>\n",
       "      <th>count</th>\n",
       "      <td>850.00000</td>\n",
       "      <td>850.00000</td>\n",
       "      <td>850.000000</td>\n",
       "      <td>850.000000</td>\n",
       "      <td>850.000000</td>\n",
       "      <td>850.000000</td>\n",
       "      <td>850.000000</td>\n",
       "      <td>850.000000</td>\n",
       "      <td>700.000000</td>\n",
       "      <td>850.000000</td>\n",
       "    </tr>\n",
       "    <tr>\n",
       "      <th>mean</th>\n",
       "      <td>424.50000</td>\n",
       "      <td>425.50000</td>\n",
       "      <td>35.029412</td>\n",
       "      <td>1.710588</td>\n",
       "      <td>8.565882</td>\n",
       "      <td>46.675294</td>\n",
       "      <td>1.576820</td>\n",
       "      <td>3.078773</td>\n",
       "      <td>0.261429</td>\n",
       "      <td>10.171647</td>\n",
       "    </tr>\n",
       "    <tr>\n",
       "      <th>std</th>\n",
       "      <td>245.51816</td>\n",
       "      <td>245.51816</td>\n",
       "      <td>8.041432</td>\n",
       "      <td>0.927784</td>\n",
       "      <td>6.777884</td>\n",
       "      <td>38.543054</td>\n",
       "      <td>2.125843</td>\n",
       "      <td>3.398799</td>\n",
       "      <td>0.439727</td>\n",
       "      <td>6.719441</td>\n",
       "    </tr>\n",
       "    <tr>\n",
       "      <th>min</th>\n",
       "      <td>0.00000</td>\n",
       "      <td>1.00000</td>\n",
       "      <td>20.000000</td>\n",
       "      <td>1.000000</td>\n",
       "      <td>0.000000</td>\n",
       "      <td>13.000000</td>\n",
       "      <td>0.012000</td>\n",
       "      <td>0.046000</td>\n",
       "      <td>0.000000</td>\n",
       "      <td>0.100000</td>\n",
       "    </tr>\n",
       "    <tr>\n",
       "      <th>25%</th>\n",
       "      <td>212.25000</td>\n",
       "      <td>213.25000</td>\n",
       "      <td>29.000000</td>\n",
       "      <td>1.000000</td>\n",
       "      <td>3.000000</td>\n",
       "      <td>24.000000</td>\n",
       "      <td>0.382500</td>\n",
       "      <td>1.045750</td>\n",
       "      <td>0.000000</td>\n",
       "      <td>5.100000</td>\n",
       "    </tr>\n",
       "    <tr>\n",
       "      <th>50%</th>\n",
       "      <td>424.50000</td>\n",
       "      <td>425.50000</td>\n",
       "      <td>34.000000</td>\n",
       "      <td>1.000000</td>\n",
       "      <td>7.000000</td>\n",
       "      <td>35.000000</td>\n",
       "      <td>0.885000</td>\n",
       "      <td>2.003000</td>\n",
       "      <td>0.000000</td>\n",
       "      <td>8.700000</td>\n",
       "    </tr>\n",
       "    <tr>\n",
       "      <th>75%</th>\n",
       "      <td>636.75000</td>\n",
       "      <td>637.75000</td>\n",
       "      <td>41.000000</td>\n",
       "      <td>2.000000</td>\n",
       "      <td>13.000000</td>\n",
       "      <td>55.750000</td>\n",
       "      <td>1.898500</td>\n",
       "      <td>3.903250</td>\n",
       "      <td>1.000000</td>\n",
       "      <td>13.800000</td>\n",
       "    </tr>\n",
       "    <tr>\n",
       "      <th>max</th>\n",
       "      <td>849.00000</td>\n",
       "      <td>850.00000</td>\n",
       "      <td>56.000000</td>\n",
       "      <td>5.000000</td>\n",
       "      <td>33.000000</td>\n",
       "      <td>446.000000</td>\n",
       "      <td>20.561000</td>\n",
       "      <td>35.197000</td>\n",
       "      <td>1.000000</td>\n",
       "      <td>41.300000</td>\n",
       "    </tr>\n",
       "  </tbody>\n",
       "</table>\n",
       "</div>"
      ],
      "text/plain": [
       "       Unnamed: 0  Customer Id         Age         Edu  Years Employed  \\\n",
       "count   850.00000    850.00000  850.000000  850.000000      850.000000   \n",
       "mean    424.50000    425.50000   35.029412    1.710588        8.565882   \n",
       "std     245.51816    245.51816    8.041432    0.927784        6.777884   \n",
       "min       0.00000      1.00000   20.000000    1.000000        0.000000   \n",
       "25%     212.25000    213.25000   29.000000    1.000000        3.000000   \n",
       "50%     424.50000    425.50000   34.000000    1.000000        7.000000   \n",
       "75%     636.75000    637.75000   41.000000    2.000000       13.000000   \n",
       "max     849.00000    850.00000   56.000000    5.000000       33.000000   \n",
       "\n",
       "           Income   Card Debt  Other Debt   Defaulted  DebtIncomeRatio  \n",
       "count  850.000000  850.000000  850.000000  700.000000       850.000000  \n",
       "mean    46.675294    1.576820    3.078773    0.261429        10.171647  \n",
       "std     38.543054    2.125843    3.398799    0.439727         6.719441  \n",
       "min     13.000000    0.012000    0.046000    0.000000         0.100000  \n",
       "25%     24.000000    0.382500    1.045750    0.000000         5.100000  \n",
       "50%     35.000000    0.885000    2.003000    0.000000         8.700000  \n",
       "75%     55.750000    1.898500    3.903250    1.000000        13.800000  \n",
       "max    446.000000   20.561000   35.197000    1.000000        41.300000  "
      ]
     },
     "execution_count": 5,
     "metadata": {},
     "output_type": "execute_result"
    }
   ],
   "source": [
    "df.describe()"
   ]
  },
  {
   "cell_type": "markdown",
   "metadata": {
    "id": "r1-8epto8_RS"
   },
   "source": [
    "# Data Cleaning"
   ]
  },
  {
   "cell_type": "markdown",
   "metadata": {
    "id": "voqWChVpFOug"
   },
   "source": [
    "I will drop the columns for Custome id and unnamed because they have no impact on the data we are trying to analyze."
   ]
  },
  {
   "cell_type": "code",
   "execution_count": 6,
   "metadata": {
    "colab": {
     "base_uri": "https://localhost:8080/",
     "height": 0
    },
    "id": "06bTfT5IFcrz",
    "outputId": "0f934b88-a3b9-4dd8-a4ef-e7e74aed36e3"
   },
   "outputs": [
    {
     "data": {
      "text/html": [
       "<div>\n",
       "<style scoped>\n",
       "    .dataframe tbody tr th:only-of-type {\n",
       "        vertical-align: middle;\n",
       "    }\n",
       "\n",
       "    .dataframe tbody tr th {\n",
       "        vertical-align: top;\n",
       "    }\n",
       "\n",
       "    .dataframe thead th {\n",
       "        text-align: right;\n",
       "    }\n",
       "</style>\n",
       "<table border=\"1\" class=\"dataframe\">\n",
       "  <thead>\n",
       "    <tr style=\"text-align: right;\">\n",
       "      <th></th>\n",
       "      <th>Age</th>\n",
       "      <th>Edu</th>\n",
       "      <th>Years Employed</th>\n",
       "      <th>Income</th>\n",
       "      <th>Card Debt</th>\n",
       "      <th>Other Debt</th>\n",
       "      <th>Defaulted</th>\n",
       "      <th>DebtIncomeRatio</th>\n",
       "    </tr>\n",
       "  </thead>\n",
       "  <tbody>\n",
       "    <tr>\n",
       "      <th>0</th>\n",
       "      <td>41</td>\n",
       "      <td>2</td>\n",
       "      <td>6</td>\n",
       "      <td>19</td>\n",
       "      <td>0.124</td>\n",
       "      <td>1.073</td>\n",
       "      <td>0.0</td>\n",
       "      <td>6.3</td>\n",
       "    </tr>\n",
       "    <tr>\n",
       "      <th>1</th>\n",
       "      <td>47</td>\n",
       "      <td>1</td>\n",
       "      <td>26</td>\n",
       "      <td>100</td>\n",
       "      <td>4.582</td>\n",
       "      <td>8.218</td>\n",
       "      <td>0.0</td>\n",
       "      <td>12.8</td>\n",
       "    </tr>\n",
       "    <tr>\n",
       "      <th>2</th>\n",
       "      <td>33</td>\n",
       "      <td>2</td>\n",
       "      <td>10</td>\n",
       "      <td>57</td>\n",
       "      <td>6.111</td>\n",
       "      <td>5.802</td>\n",
       "      <td>1.0</td>\n",
       "      <td>20.9</td>\n",
       "    </tr>\n",
       "    <tr>\n",
       "      <th>3</th>\n",
       "      <td>29</td>\n",
       "      <td>2</td>\n",
       "      <td>4</td>\n",
       "      <td>19</td>\n",
       "      <td>0.681</td>\n",
       "      <td>0.516</td>\n",
       "      <td>0.0</td>\n",
       "      <td>6.3</td>\n",
       "    </tr>\n",
       "    <tr>\n",
       "      <th>4</th>\n",
       "      <td>47</td>\n",
       "      <td>1</td>\n",
       "      <td>31</td>\n",
       "      <td>253</td>\n",
       "      <td>9.308</td>\n",
       "      <td>8.908</td>\n",
       "      <td>0.0</td>\n",
       "      <td>7.2</td>\n",
       "    </tr>\n",
       "  </tbody>\n",
       "</table>\n",
       "</div>"
      ],
      "text/plain": [
       "   Age  Edu  Years Employed  Income  Card Debt  Other Debt  Defaulted  \\\n",
       "0   41    2               6      19      0.124       1.073        0.0   \n",
       "1   47    1              26     100      4.582       8.218        0.0   \n",
       "2   33    2              10      57      6.111       5.802        1.0   \n",
       "3   29    2               4      19      0.681       0.516        0.0   \n",
       "4   47    1              31     253      9.308       8.908        0.0   \n",
       "\n",
       "   DebtIncomeRatio  \n",
       "0              6.3  \n",
       "1             12.8  \n",
       "2             20.9  \n",
       "3              6.3  \n",
       "4              7.2  "
      ]
     },
     "execution_count": 6,
     "metadata": {},
     "output_type": "execute_result"
    }
   ],
   "source": [
    "df.drop(columns = ['Unnamed: 0', 'Customer Id'], inplace = True)\n",
    "df.head()"
   ]
  },
  {
   "cell_type": "code",
   "execution_count": 7,
   "metadata": {
    "colab": {
     "base_uri": "https://localhost:8080/"
    },
    "id": "p82_o17e9DBl",
    "outputId": "e98d6bd4-3990-481e-bc02-b3ff683cde87"
   },
   "outputs": [
    {
     "name": "stdout",
     "output_type": "stream",
     "text": [
      " There are 0 duplicaate rows in the data set\n"
     ]
    }
   ],
   "source": [
    "print(f' There are {df.duplicated().sum()} duplicaate rows in the data set') "
   ]
  },
  {
   "cell_type": "code",
   "execution_count": 8,
   "metadata": {
    "colab": {
     "base_uri": "https://localhost:8080/"
    },
    "id": "qEFzH_GE-Cdo",
    "outputId": "c7ec2a64-2a0f-4ac1-85d7-be8a5d3797f0"
   },
   "outputs": [
    {
     "data": {
      "text/plain": [
       "Age                  0\n",
       "Edu                  0\n",
       "Years Employed       0\n",
       "Income               0\n",
       "Card Debt            0\n",
       "Other Debt           0\n",
       "Defaulted          150\n",
       "DebtIncomeRatio      0\n",
       "dtype: int64"
      ]
     },
     "execution_count": 8,
     "metadata": {},
     "output_type": "execute_result"
    }
   ],
   "source": [
    "df.isna().sum()"
   ]
  },
  {
   "cell_type": "markdown",
   "metadata": {
    "id": "xi0drqUj-ck9"
   },
   "source": [
    "Since we dont have a way of verifying if the missing data defauted or not I am going to assume that the bank would know if a customer has defaulted on their loan and set them all to zero. "
   ]
  },
  {
   "cell_type": "code",
   "execution_count": 9,
   "metadata": {
    "colab": {
     "base_uri": "https://localhost:8080/"
    },
    "id": "RZZMSqXq-9G5",
    "outputId": "5249ed5e-0005-4277-9adb-39ea405d49fd"
   },
   "outputs": [
    {
     "data": {
      "text/plain": [
       "Age                0\n",
       "Edu                0\n",
       "Years Employed     0\n",
       "Income             0\n",
       "Card Debt          0\n",
       "Other Debt         0\n",
       "Defaulted          0\n",
       "DebtIncomeRatio    0\n",
       "dtype: int64"
      ]
     },
     "execution_count": 9,
     "metadata": {},
     "output_type": "execute_result"
    }
   ],
   "source": [
    "df['Defaulted'].fillna(0, inplace = True)\n",
    "df.isna().sum()"
   ]
  },
  {
   "cell_type": "markdown",
   "metadata": {
    "id": "HFCBLPXw7e8X"
   },
   "source": [
    "# KMeans Customer Segments"
   ]
  },
  {
   "cell_type": "markdown",
   "metadata": {
    "id": "EXgYu1KQ7d93"
   },
   "source": [
    "## Instantiate Scaler"
   ]
  },
  {
   "cell_type": "code",
   "execution_count": 10,
   "metadata": {
    "id": "E661a9PN62Cs"
   },
   "outputs": [],
   "source": [
    "scaler = StandardScaler() #Instantiate Scaler\n",
    "scaled_df = scaler.fit_transform(df) #fit it to the dataframs"
   ]
  },
  {
   "cell_type": "markdown",
   "metadata": {
    "id": "8HlH8Q3D77UL"
   },
   "source": [
    "## Elbow Method & Silhouette Score"
   ]
  },
  {
   "cell_type": "code",
   "execution_count": 11,
   "metadata": {
    "id": "8DUTRqjI8j7m"
   },
   "outputs": [
    {
     "data": {
      "image/png": "[encoded data removed]",
      "text/plain": [
       "<Figure size 1200x500 with 2 Axes>"
      ]
     },
     "metadata": {},
     "output_type": "display_data"
    }
   ],
   "source": [
    "silhouettes = [] # storage for silhouettes\n",
    "inertia = [] #storage for inertias\n",
    "\n",
    "for i in range(2, 16): # Loop through i and k values 2-15 and store results\n",
    "    # silhouettes\n",
    "    kmeans_silhouette = KMeans(n_clusters = i, random_state = 42)\n",
    "    kmeans_silhouette.fit(scaled_df)\n",
    "    silhouettes.append(silhouette_score(scaled_df, kmeans_silhouette.labels_))\n",
    "    \n",
    "    # Elbow\n",
    "    kmeans_elbow = KMeans(n_clusters=i, random_state = 42)  \n",
    "    kmeans_elbow.fit(scaled_df)  \n",
    "    inertia.append(kmeans_elbow.inertia_)\n",
    "\n",
    "fig, (ax1, ax2) = plt.subplots(nrows = 1, ncols = 2, figsize = (12,5))\n",
    "ax1.plot(range(2,16), inertia, marker = 'x')\n",
    "ax1.set_xlabel('clusters')\n",
    "ax1.set_ylabel('inertia')\n",
    "ax1.set_title('Elbow Method')\n",
    "\n",
    "ax2.plot(range(2, 16),silhouettes, marker = 'o')\n",
    "ax2.set_xlabel('Number of Clusters')\n",
    "ax2.set_ylabel('Silhouette Score')\n",
    "ax2.set_title('Silhouette Method');"
   ]
  },
  {
   "cell_type": "markdown",
   "metadata": {},
   "source": [
    "## Analysis"
   ]
  },
  {
   "cell_type": "markdown",
   "metadata": {
    "id": "J7V8qis7MqLT"
   },
   "source": [
    "- Based on the Elbow Method, the best number of clusters looks to be either 5 or 6. This is where the delta from one cluster to the next starts to decrease the most.\n",
    "\n",
    "- Based on the Silhouette Method, the best number of clusters looks to be either 2 or 3. This is where the delta is the greatest between clusters. "
   ]
  },
  {
   "cell_type": "markdown",
   "metadata": {
    "id": "xTrJU__lD4gl"
   },
   "source": [
    "## KMeans Scores"
   ]
  },
  {
   "cell_type": "markdown",
   "metadata": {
    "id": "Z-D_PtnJEGB6"
   },
   "source": [
    "### 2 Clusters"
   ]
  },
  {
   "cell_type": "code",
   "execution_count": 12,
   "metadata": {
    "colab": {
     "base_uri": "https://localhost:8080/"
    },
    "id": "x9qvcO7zEGot",
    "outputId": "b2bcf61f-b0f7-4b70-884d-e7f2286054c4"
   },
   "outputs": [
    {
     "data": {
      "text/plain": [
       "0.3401172685946081"
      ]
     },
     "execution_count": 12,
     "metadata": {},
     "output_type": "execute_result"
    }
   ],
   "source": [
    "kmeans2 = KMeans(n_clusters = 2, random_state = 42)\n",
    "kmeans2.fit(scaled_df)\n",
    "silhouette_score(scaled_df, kmeans2.labels_)"
   ]
  },
  {
   "cell_type": "markdown",
   "metadata": {
    "id": "dfIBK1IqEHwC"
   },
   "source": [
    "### 3 Clusters"
   ]
  },
  {
   "cell_type": "code",
   "execution_count": 13,
   "metadata": {
    "colab": {
     "base_uri": "https://localhost:8080/"
    },
    "id": "HLdiIsnGEHYq",
    "outputId": "173ddfb7-47b2-451a-daac-d73f1012e787"
   },
   "outputs": [
    {
     "data": {
      "text/plain": [
       "0.28738683325129355"
      ]
     },
     "execution_count": 13,
     "metadata": {},
     "output_type": "execute_result"
    }
   ],
   "source": [
    "kmeans3 = KMeans(n_clusters = 3, random_state = 42)\n",
    "kmeans3.fit(scaled_df)\n",
    "silhouette_score(scaled_df, kmeans3.labels_)"
   ]
  },
  {
   "cell_type": "markdown",
   "metadata": {
    "id": "f3lUJCI4NGhB"
   },
   "source": [
    "### 5 Clusters"
   ]
  },
  {
   "cell_type": "code",
   "execution_count": 14,
   "metadata": {
    "colab": {
     "base_uri": "https://localhost:8080/"
    },
    "id": "16L1jpH-NGBi",
    "outputId": "5ca53994-29f5-4e01-92fd-ebd9e2de6eec"
   },
   "outputs": [
    {
     "data": {
      "text/plain": [
       "0.2496481795475487"
      ]
     },
     "execution_count": 14,
     "metadata": {},
     "output_type": "execute_result"
    }
   ],
   "source": [
    "kmeans5 = KMeans(n_clusters = 5, random_state = 42)\n",
    "kmeans5.fit(scaled_df)\n",
    "silhouette_score(scaled_df, kmeans5.labels_)"
   ]
  },
  {
   "cell_type": "markdown",
   "metadata": {
    "id": "57vooPO1NNi9"
   },
   "source": [
    "### 6 Clusters"
   ]
  },
  {
   "cell_type": "code",
   "execution_count": 15,
   "metadata": {
    "colab": {
     "base_uri": "https://localhost:8080/"
    },
    "id": "nQ-mhaS0NNCM",
    "outputId": "9b2b7d5e-7c51-4fed-eef7-c73356823f17"
   },
   "outputs": [
    {
     "data": {
      "text/plain": [
       "0.2431148255696207"
      ]
     },
     "execution_count": 15,
     "metadata": {},
     "output_type": "execute_result"
    }
   ],
   "source": [
    "kmeans6 = KMeans(n_clusters = 6, random_state = 42)\n",
    "kmeans6.fit(scaled_df)\n",
    "silhouette_score(scaled_df, kmeans6.labels_)"
   ]
  },
  {
   "cell_type": "markdown",
   "metadata": {
    "id": "LRVyrSoBE_23"
   },
   "source": [
    "## Analysis"
   ]
  },
  {
   "cell_type": "markdown",
   "metadata": {
    "id": "nKty09_6FD9U"
   },
   "source": [
    "Based on this data I would most likely make 6 clusters.  There are 850 rows in the data set, so this data set is rather small. 6 clusters also is where the delta starts to decrease using the elbow method."
   ]
  },
  {
   "cell_type": "markdown",
   "metadata": {
    "id": "f-ujYuNu9vZf"
   },
   "source": [
    "# Analytical visualizations"
   ]
  },
  {
   "cell_type": "code",
   "execution_count": 16,
   "metadata": {
    "colab": {
     "base_uri": "https://localhost:8080/",
     "height": 206
    },
    "id": "a9aOnVoo-R8z",
    "outputId": "bf93032b-1817-4a8d-f35e-d0e3814c49da"
   },
   "outputs": [
    {
     "data": {
      "text/html": [
       "<div>\n",
       "<style scoped>\n",
       "    .dataframe tbody tr th:only-of-type {\n",
       "        vertical-align: middle;\n",
       "    }\n",
       "\n",
       "    .dataframe tbody tr th {\n",
       "        vertical-align: top;\n",
       "    }\n",
       "\n",
       "    .dataframe thead th {\n",
       "        text-align: right;\n",
       "    }\n",
       "</style>\n",
       "<table border=\"1\" class=\"dataframe\">\n",
       "  <thead>\n",
       "    <tr style=\"text-align: right;\">\n",
       "      <th></th>\n",
       "      <th>Age</th>\n",
       "      <th>Edu</th>\n",
       "      <th>Years Employed</th>\n",
       "      <th>Income</th>\n",
       "      <th>Card Debt</th>\n",
       "      <th>Other Debt</th>\n",
       "      <th>Defaulted</th>\n",
       "      <th>DebtIncomeRatio</th>\n",
       "      <th>cluster</th>\n",
       "    </tr>\n",
       "  </thead>\n",
       "  <tbody>\n",
       "    <tr>\n",
       "      <th>0</th>\n",
       "      <td>41</td>\n",
       "      <td>2</td>\n",
       "      <td>6</td>\n",
       "      <td>19</td>\n",
       "      <td>0.124</td>\n",
       "      <td>1.073</td>\n",
       "      <td>0.0</td>\n",
       "      <td>6.3</td>\n",
       "      <td>1</td>\n",
       "    </tr>\n",
       "    <tr>\n",
       "      <th>1</th>\n",
       "      <td>47</td>\n",
       "      <td>1</td>\n",
       "      <td>26</td>\n",
       "      <td>100</td>\n",
       "      <td>4.582</td>\n",
       "      <td>8.218</td>\n",
       "      <td>0.0</td>\n",
       "      <td>12.8</td>\n",
       "      <td>5</td>\n",
       "    </tr>\n",
       "    <tr>\n",
       "      <th>2</th>\n",
       "      <td>33</td>\n",
       "      <td>2</td>\n",
       "      <td>10</td>\n",
       "      <td>57</td>\n",
       "      <td>6.111</td>\n",
       "      <td>5.802</td>\n",
       "      <td>1.0</td>\n",
       "      <td>20.9</td>\n",
       "      <td>5</td>\n",
       "    </tr>\n",
       "    <tr>\n",
       "      <th>3</th>\n",
       "      <td>29</td>\n",
       "      <td>2</td>\n",
       "      <td>4</td>\n",
       "      <td>19</td>\n",
       "      <td>0.681</td>\n",
       "      <td>0.516</td>\n",
       "      <td>0.0</td>\n",
       "      <td>6.3</td>\n",
       "      <td>1</td>\n",
       "    </tr>\n",
       "    <tr>\n",
       "      <th>4</th>\n",
       "      <td>47</td>\n",
       "      <td>1</td>\n",
       "      <td>31</td>\n",
       "      <td>253</td>\n",
       "      <td>9.308</td>\n",
       "      <td>8.908</td>\n",
       "      <td>0.0</td>\n",
       "      <td>7.2</td>\n",
       "      <td>0</td>\n",
       "    </tr>\n",
       "  </tbody>\n",
       "</table>\n",
       "</div>"
      ],
      "text/plain": [
       "   Age  Edu  Years Employed  Income  Card Debt  Other Debt  Defaulted  \\\n",
       "0   41    2               6      19      0.124       1.073        0.0   \n",
       "1   47    1              26     100      4.582       8.218        0.0   \n",
       "2   33    2              10      57      6.111       5.802        1.0   \n",
       "3   29    2               4      19      0.681       0.516        0.0   \n",
       "4   47    1              31     253      9.308       8.908        0.0   \n",
       "\n",
       "   DebtIncomeRatio  cluster  \n",
       "0              6.3        1  \n",
       "1             12.8        5  \n",
       "2             20.9        5  \n",
       "3              6.3        1  \n",
       "4              7.2        0  "
      ]
     },
     "execution_count": 16,
     "metadata": {},
     "output_type": "execute_result"
    }
   ],
   "source": [
    "# Refit KMeans with 6 clusters\n",
    "kmeans = KMeans(n_clusters = 6, random_state = 42)\n",
    "kmeans.fit(scaled_df)\n",
    "# Add the clusters as a column in the dataframe\n",
    "df['cluster'] = kmeans.labels_\n",
    "df.head()"
   ]
  },
  {
   "cell_type": "code",
   "execution_count": 17,
   "metadata": {
    "colab": {
     "base_uri": "https://localhost:8080/",
     "height": 238
    },
    "id": "bwc4KzqVCE5u",
    "outputId": "21eb4168-5439-46f5-bd55-a52c89700c8a"
   },
   "outputs": [
    {
     "data": {
      "text/html": [
       "<div>\n",
       "<style scoped>\n",
       "    .dataframe tbody tr th:only-of-type {\n",
       "        vertical-align: middle;\n",
       "    }\n",
       "\n",
       "    .dataframe tbody tr th {\n",
       "        vertical-align: top;\n",
       "    }\n",
       "\n",
       "    .dataframe thead th {\n",
       "        text-align: right;\n",
       "    }\n",
       "</style>\n",
       "<table border=\"1\" class=\"dataframe\">\n",
       "  <thead>\n",
       "    <tr style=\"text-align: right;\">\n",
       "      <th></th>\n",
       "      <th>cluster</th>\n",
       "      <th>Age</th>\n",
       "      <th>Edu</th>\n",
       "      <th>Years Employed</th>\n",
       "      <th>Income</th>\n",
       "      <th>Card Debt</th>\n",
       "      <th>Other Debt</th>\n",
       "      <th>Defaulted</th>\n",
       "      <th>DebtIncomeRatio</th>\n",
       "    </tr>\n",
       "  </thead>\n",
       "  <tbody>\n",
       "    <tr>\n",
       "      <th>0</th>\n",
       "      <td>0</td>\n",
       "      <td>46.285714</td>\n",
       "      <td>1.928571</td>\n",
       "      <td>22.642857</td>\n",
       "      <td>213.142857</td>\n",
       "      <td>11.737786</td>\n",
       "      <td>16.239857</td>\n",
       "      <td>0.571429</td>\n",
       "      <td>16.821429</td>\n",
       "    </tr>\n",
       "    <tr>\n",
       "      <th>1</th>\n",
       "      <td>1</td>\n",
       "      <td>31.807018</td>\n",
       "      <td>1.298246</td>\n",
       "      <td>5.748538</td>\n",
       "      <td>28.985380</td>\n",
       "      <td>0.711871</td>\n",
       "      <td>1.553386</td>\n",
       "      <td>0.000000</td>\n",
       "      <td>8.127485</td>\n",
       "    </tr>\n",
       "    <tr>\n",
       "      <th>2</th>\n",
       "      <td>2</td>\n",
       "      <td>41.753086</td>\n",
       "      <td>1.438272</td>\n",
       "      <td>16.604938</td>\n",
       "      <td>71.265432</td>\n",
       "      <td>1.438457</td>\n",
       "      <td>2.795253</td>\n",
       "      <td>0.012346</td>\n",
       "      <td>6.556173</td>\n",
       "    </tr>\n",
       "    <tr>\n",
       "      <th>3</th>\n",
       "      <td>3</td>\n",
       "      <td>33.534884</td>\n",
       "      <td>3.500000</td>\n",
       "      <td>4.895349</td>\n",
       "      <td>42.581395</td>\n",
       "      <td>1.018651</td>\n",
       "      <td>2.342977</td>\n",
       "      <td>0.069767</td>\n",
       "      <td>8.452326</td>\n",
       "    </tr>\n",
       "    <tr>\n",
       "      <th>4</th>\n",
       "      <td>4</td>\n",
       "      <td>31.503448</td>\n",
       "      <td>1.744828</td>\n",
       "      <td>3.558621</td>\n",
       "      <td>28.875862</td>\n",
       "      <td>1.399931</td>\n",
       "      <td>2.436090</td>\n",
       "      <td>1.000000</td>\n",
       "      <td>13.578621</td>\n",
       "    </tr>\n",
       "    <tr>\n",
       "      <th>5</th>\n",
       "      <td>5</td>\n",
       "      <td>39.930693</td>\n",
       "      <td>1.940594</td>\n",
       "      <td>13.574257</td>\n",
       "      <td>73.099010</td>\n",
       "      <td>4.048356</td>\n",
       "      <td>8.423574</td>\n",
       "      <td>0.217822</td>\n",
       "      <td>18.543564</td>\n",
       "    </tr>\n",
       "  </tbody>\n",
       "</table>\n",
       "</div>"
      ],
      "text/plain": [
       "   cluster        Age       Edu  Years Employed      Income  Card Debt  \\\n",
       "0        0  46.285714  1.928571       22.642857  213.142857  11.737786   \n",
       "1        1  31.807018  1.298246        5.748538   28.985380   0.711871   \n",
       "2        2  41.753086  1.438272       16.604938   71.265432   1.438457   \n",
       "3        3  33.534884  3.500000        4.895349   42.581395   1.018651   \n",
       "4        4  31.503448  1.744828        3.558621   28.875862   1.399931   \n",
       "5        5  39.930693  1.940594       13.574257   73.099010   4.048356   \n",
       "\n",
       "   Other Debt  Defaulted  DebtIncomeRatio  \n",
       "0   16.239857   0.571429        16.821429  \n",
       "1    1.553386   0.000000         8.127485  \n",
       "2    2.795253   0.012346         6.556173  \n",
       "3    2.342977   0.069767         8.452326  \n",
       "4    2.436090   1.000000        13.578621  \n",
       "5    8.423574   0.217822        18.543564  "
      ]
     },
     "execution_count": 17,
     "metadata": {},
     "output_type": "execute_result"
    }
   ],
   "source": [
    "clusters = df.groupby('cluster', as_index = False).mean()\n",
    "clusters"
   ]
  },
  {
   "cell_type": "code",
   "execution_count": 18,
   "metadata": {
    "colab": {
     "base_uri": "https://localhost:8080/",
     "height": 671
    },
    "id": "tNmBxSI0B9ZP",
    "outputId": "39e63ff6-0451-4b72-c118-e44f4f2b93ef"
   },
   "outputs": [
    {
     "data": {
      "image/png": "[encoded data removed]",
      "text/plain": [
       "<Figure size 2000x1000 with 8 Axes>"
      ]
     },
     "metadata": {},
     "output_type": "display_data"
    }
   ],
   "source": [
    "# Visualize means \n",
    "fig, axes = plt.subplots(2,4, figsize = (20, 10))\n",
    "# fig is an array of dimensions 3,4.  axes.ravel() will flatten it to 12,1\n",
    "axes = axes.ravel()\n",
    "# Loop over columns and plot each in a separate figure, skip 'cluster' column\n",
    "for i, column in enumerate(clusters.columns[1:]):\n",
    "  axes[i].bar(clusters['cluster'], clusters[column])\n",
    "  axes[i].set_title(f'Mean {column}')"
   ]
  },
  {
   "cell_type": "markdown",
   "metadata": {
    "id": "Le419j15LkMh"
   },
   "source": [
    "## Cluster descriptions"
   ]
  },
  {
   "cell_type": "markdown",
   "metadata": {
    "id": "HbNOvEsCMTX0"
   },
   "source": [
    "### Cluster 0"
   ]
  },
  {
   "cell_type": "markdown",
   "metadata": {
    "id": "saWKQekJMXhg"
   },
   "source": [
    "Cluster 0:\n",
    "\n",
    "*   Oldest\n",
    "*   3rd highest educated\n",
    "*   Longest employed\n",
    "*   Highest Income\n",
    "*   Most card debt\n",
    "*   Most other debt\n",
    "*   2nd highest defaulted cards\n",
    "*   2nd highest debt to income ratio\n",
    "\n",
    "These people are the oldest and have a lot of work experience, but they have a lot of debt. They also have a high debt to income ratio, but the dont pay back a lot of debt since they have defaulted on their cards. \n"
   ]
  },
  {
   "cell_type": "markdown",
   "metadata": {
    "id": "__vFGtTYMX6k"
   },
   "source": [
    "### Cluster 1"
   ]
  },
  {
   "cell_type": "markdown",
   "metadata": {
    "id": "pU4s3QfnMavq"
   },
   "source": [
    "Cluster 1:\n",
    "\n",
    "*   2nd youngest\n",
    "*   Least educated\n",
    "*   4th longest employed\n",
    "*   Least income\n",
    "*   Least amount of card debt\n",
    "*   Least amount of other debt\n",
    "*   Least amount of defaulted cards\n",
    "*   2nd lowest debt to income ratio\n",
    "\n",
    "These people are younger without a lot of education.  They have very little debt, but they also make the least amount of money. They also have a low debt to income ratio."
   ]
  },
  {
   "cell_type": "markdown",
   "metadata": {
    "id": "95IXUcTmMbap"
   },
   "source": [
    "### Cluster 2"
   ]
  },
  {
   "cell_type": "markdown",
   "metadata": {
    "id": "gvu-K1yUMeg1"
   },
   "source": [
    "Cluster 2:\n",
    "\n",
    "*   2nd oldest\n",
    "*   2nd least educated\n",
    "*   2nd longest employed\n",
    "*   3rd highest income\n",
    "*   3rd highest amount of card debt\n",
    "*   3rd highest amount of other debt\n",
    "*   2nd lowest amount of defaulted cards\n",
    "*   Least debt to income ratio\n",
    "\n",
    "These people are older with a lot of experience, but a low amount of debt. They also have a low debt to income ratio and don't default on their cards."
   ]
  },
  {
   "cell_type": "markdown",
   "metadata": {
    "id": "5bpdQWmvMe1F"
   },
   "source": [
    "### Cluster 3"
   ]
  },
  {
   "cell_type": "markdown",
   "metadata": {
    "id": "xuO3uBuyMgsa"
   },
   "source": [
    "Cluster 3:\n",
    "\n",
    "*   3rd youngest\n",
    "*   Most educated\n",
    "*   5th longest employed\n",
    "*   4th highest income\n",
    "*   5th highest amount of card debt\n",
    "*   5th highest amount of other debt\n",
    "*   3rd lowest amount of defaulted cards\n",
    "*   3rd lowest debt to income ratio\n",
    "\n",
    "These people are young with high education.  They have not been in the workforce for a long time, but it seems like they use their credit dards."
   ]
  },
  {
   "cell_type": "markdown",
   "metadata": {
    "id": "-rm9f-klMhBw"
   },
   "source": [
    "### Cluster 4"
   ]
  },
  {
   "cell_type": "markdown",
   "metadata": {
    "id": "lS3D0796MjeA"
   },
   "source": [
    "Cluster 4:\n",
    "\n",
    "*   Youngest\n",
    "*   4th highest educated\n",
    "*   Least time employed\n",
    "*   2nd lowest income\n",
    "*   4th highest amount of card debt\n",
    "*   4th highest amount of other debt\n",
    "*   Most defaulted cards\n",
    "*   3rd highest debt to income ratio\n",
    "\n",
    "These people are young with decent education.  They have not been in the workforce for a long time and do not make a lot of money. They do use their credit cards and take on a moderate amount of debt, but they are likely to default on their cards. "
   ]
  },
  {
   "cell_type": "markdown",
   "metadata": {
    "id": "ll7gTwnmMibW"
   },
   "source": [
    "### Cluster 5"
   ]
  },
  {
   "cell_type": "markdown",
   "metadata": {
    "id": "RgqCZ1QJMlcU"
   },
   "source": [
    "Cluster 5:\n",
    "\n",
    "*   3rd oldest\n",
    "*   2nd highest educated\n",
    "*   3rd longest employed\n",
    "*   2nd highest income\n",
    "*   2nd highest amount of card debt\n",
    "*   2nd highest amount of other debt\n",
    "*   3rd highest amount of defaulted cards\n",
    "*   Highest debt to income ratio\n",
    "\n",
    "These people are older with decent education.  They have been in the workforce awhile and make a decent amount of money. They do use their credit cards and take on a lot of debt, but they are likely to default on their cards. "
   ]
  },
  {
   "cell_type": "markdown",
   "metadata": {
    "id": "cgSskXrYjKKK"
   },
   "source": [
    "# Recommendations"
   ]
  },
  {
   "cell_type": "markdown",
   "metadata": {
    "id": "IvQfbDhbjNTz"
   },
   "source": [
    "I would recommend 2 types of cards:\n",
    "\n",
    "1.   A card to Group 2 that would encourage them to spend becaue they have disposable income because they have a good income and they are not likely to default on the cards. \n",
    "\n",
    "2.   A card to group 5 to encourage them to consoldate their debt to our cards becasue they are not likely to default their cards. Although their debt to income ratio is high, they could be incouraged to move their debt to another card as a means to help.\n",
    "\n"
   ]
  }
 ],
 "metadata": {
  "colab": {
   "authorship_tag": "ABX9TyOPTkKDC5NE/dnrKf5lz5Ua",
   "collapsed_sections": [
    "WJdfVGrC5Fb2",
    "hURxHOoo5gRX",
    "r1-8epto8_RS"
   ],
   "include_colab_link": true,
   "mount_file_id": "1FVvAov90bB7fShNpw4ZaI6mt5tt_e041",
   "provenance": [],
   "toc_visible": true
  },
  "kernelspec": {
   "display_name": "Python 3 (ipykernel)",
   "language": "python",
   "name": "python3"
  },
  "language_info": {
   "codemirror_mode": {
    "name": "ipython",
    "version": 3
   },
   "file_extension": ".py",
   "mimetype": "text/x-python",
   "name": "python",
   "nbconvert_exporter": "python",
   "pygments_lexer": "ipython3",
   "version": "3.9.15"
  },
  "toc": {
   "base_numbering": 1,
   "nav_menu": {},
   "number_sections": false,
   "sideBar": true,
   "skip_h1_title": false,
   "title_cell": "Table of Contents",
   "title_sidebar": "Contents",
   "toc_cell": false,
   "toc_position": {
    "height": "calc(100% - 180px)",
    "left": "10px",
    "top": "150px",
    "width": "334.398px"
   },
   "toc_section_display": true,
   "toc_window_display": true
  }
 },
 "nbformat": 4,
 "nbformat_minor": 1
}
